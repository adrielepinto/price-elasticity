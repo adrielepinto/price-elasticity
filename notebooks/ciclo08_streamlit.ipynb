{
 "cells": [
  {
   "cell_type": "markdown",
   "metadata": {},
   "source": [
    "# 0.1 Imports"
   ]
  },
  {
   "cell_type": "code",
   "execution_count": 67,
   "metadata": {},
   "outputs": [
    {
     "ename": "IndentationError",
     "evalue": "unindent does not match any outer indentation level (<tokenize>, line 57)",
     "output_type": "error",
     "traceback": [
      "\u001b[0;36m  File \u001b[0;32m<tokenize>:57\u001b[0;36m\u001b[0m\n\u001b[0;31m    with tab3:\u001b[0m\n\u001b[0m    ^\u001b[0m\n\u001b[0;31mIndentationError\u001b[0m\u001b[0;31m:\u001b[0m unindent does not match any outer indentation level\n"
     ]
    }
   ],
   "source": [
    "# Import libraries\n",
    "import lxml\n",
    "import pandas as pd\n",
    "import numpy  as np\n",
    "import seaborn as sns\n",
    "\n",
    "import matplotlib.pyplot as plt\n",
    "import statsmodels.api   as sm\n",
    "import streamlit         as st\n",
    "\n",
    "\n",
    "# Import Data Frames\n",
    "df_bp = pd.read_csv( '/Users/adriele/Documents/repos/priceelasticity/models/business_performance.csv' )\n",
    "#df_bp = df_bp.drop( 'Unnamed: 0', axis=1 )\n",
    "df_c  = pd.read_csv( '/Users/adriele/Documents/repos/priceelasticity/models/crossprice.csv' ).drop( 'Unnamed: 0', axis=1 )\n",
    "df_e  = pd.read_csv( '/Users/adriele/Documents/repos/priceelasticity/models/df_elasticity.csv' )\n",
    "\n",
    "\n",
    "######### Layout Streamlit ############\n",
    "st.set_page_config( layout='wide' ) \n",
    "st.header( 'Price Elasticity of Products' ) \n",
    "\n",
    "\n",
    "tab1, tab2, tab3 = st.tabs(( 'Price Ealsticity of Products' , 'Business Performance', ' Cross Price of Products' ))\n",
    "\n",
    "with tab1:\n",
    "    tab2, tab3 = st.tabs([ 'Price Elasticity - Graphics', 'Price Elasticity - Data Frame' ])\n",
    "    with tab2:\n",
    "        # display price elasticity graphically\n",
    "        st.header( 'Price Elasticity - Graphics' )\n",
    "        \n",
    "        df_e['ranking'] = df_e.loc[:, 'price_elasticity'].rank( ascending=True ).astype(int)\n",
    "        df_elasticity = df_e        plt.figure( figsize=(12, 10) )\n",
    "        ax.hlines( y=df_elasticity['ranking'], xmin=0, xmax=df_elasticity['price_elasticity'], alpha=1, linewidth=30 )\n",
    "        \n",
    "        for name, p in zip( df_elasticity['name'], df_elasticity['ranking'] ):\n",
    "            ax.text( 4, p, name )\n",
    "        \n",
    "            \n",
    "        # add elasticy labels\n",
    "        for x, y, s in zip( df_elasticity['price_elasticity'], df_elasticity['ranking'], df_elasticity['price_elasticity']):\n",
    "            ax.text(x, y, round(s, 2), horizontalalignment='right'if x < 0 else 'left',\n",
    "                                                                                        #ax.gca().set( ylabel='Ranking Nuber', xlabel = 'Price Elasticity') \n",
    "        #ax.title( ' Price Elasticity' )\n",
    "        ax.grid( linestyle = '--' )\n",
    "        st.pyplot( fig )fontdict={'color' : 'red' if x < 0 else 'green', 'size':10 } )\n",
    "        \n",
    "        \n",
    "verticalalignment='center',\n",
    ".reset_index( drop=True )\n",
    "\n",
    "        \n",
    "        fig, ax = plt.subplots() \n",
    "        \n",
    "\n",
    "                \n",
    "    with tab3:\n",
    "         # display the Cross Price\n",
    "         st.header( 'Price Elasticity - Data Frame' )\n",
    "         df_order_elasticity = df_e[[ 'ranking', 'name', 'price_elasticity' ]].sort_values( by='price_elasticity', ascending=False ) \n",
    "         st.dataframe( df_order_elasticity )\n",
    "            \n",
    "       \n",
    "with tab4:\n",
    "    # show Business Performance\n",
    "    st.header( 'Business Performance' )\n",
    "    df_bp = df_bp.set_index( 'name' )\n",
    "    st.dataframe( df_bp, use_container_width = True )\n",
    "\n",
    "with tab5:\n",
    "    # Show the Cross Price\n",
    "    st.header( 'Cross Price Elasticity' )\n",
    "    df_c = df_c.set_index( 'name' )\n",
    "    st.dataframe( df_c, use_container_width = True )\n"
   ]
  },
  {
   "cell_type": "code",
   "execution_count": null,
   "metadata": {},
   "outputs": [],
   "source": []
  }
 ],
 "metadata": {
  "kernelspec": {
   "display_name": "Python 3 (ipykernel)",
   "language": "python",
   "name": "python3"
  },
  "language_info": {
   "codemirror_mode": {
    "name": "ipython",
    "version": 3
   },
   "file_extension": ".py",
   "mimetype": "text/x-python",
   "name": "python",
   "nbconvert_exporter": "python",
   "pygments_lexer": "ipython3",
   "version": "3.9.17"
  }
 },
 "nbformat": 4,
 "nbformat_minor": 4
}
